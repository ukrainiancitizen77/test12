Last login: Wed May 29 11:09:38 on ttys000
MacBook-Bodik:~ bohdanbezditko$ 12312312






















